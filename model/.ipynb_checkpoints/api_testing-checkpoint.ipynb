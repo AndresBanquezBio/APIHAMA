{
 "cells": [
  {
   "cell_type": "code",
   "execution_count": 1,
   "id": "ec13d1c0",
   "metadata": {},
   "outputs": [],
   "source": [
    "import requests\n",
    "import numpy as np\n",
    "import pandas as pd"
   ]
  },
  {
   "cell_type": "code",
   "execution_count": null,
   "id": "32e0d126",
   "metadata": {},
   "outputs": [],
   "source": [
    "df = pd.read_csv('X_test.csv')\n",
    "X_test = df.to_numpy()\n",
    "data = {\"data\": X_test.tolist()}\n",
    "r = requests.post('http://localhost/predict', json = data)\n",
    "r.json()"
   ]
  }
 ],
 "metadata": {
  "kernelspec": {
   "display_name": "Python 3 (ipykernel)",
   "language": "python",
   "name": "python3"
  },
  "language_info": {
   "codemirror_mode": {
    "name": "ipython",
    "version": 3
   },
   "file_extension": ".py",
   "mimetype": "text/x-python",
   "name": "python",
   "nbconvert_exporter": "python",
   "pygments_lexer": "ipython3",
   "version": "3.10.9"
  }
 },
 "nbformat": 4,
 "nbformat_minor": 5
}
